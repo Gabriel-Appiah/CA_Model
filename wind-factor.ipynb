{
 "cells": [
  {
   "cell_type": "code",
   "execution_count": 1,
   "metadata": {},
   "outputs": [],
   "source": [
    "import requests\n",
    "import pandas as pd\n",
    "from datetime import datetime, timedelta"
   ]
  },
  {
   "cell_type": "code",
   "execution_count": 2,
   "metadata": {},
   "outputs": [],
   "source": [
    "def fetch_wind_data(lat, lon, hours=48):\n",
    "    \"\"\"\n",
    "    Fetch hourly wind speed and direction from Open-Meteo API.\n",
    "    Returns a pandas DataFrame with columns: time, wind_speed, wind_direction\n",
    "    \"\"\"\n",
    "    # Time range: now to now + hours\n",
    "    start_time = datetime.utcnow()\n",
    "    end_time = start_time + timedelta(hours=hours)\n",
    "\n",
    "    url = \"https://api.open-meteo.com/v1/forecast\"\n",
    "    params = {\n",
    "        \"latitude\": lat,\n",
    "        \"longitude\": lon,\n",
    "        \"hourly\": \"wind_speed_10m,wind_direction_10m\",\n",
    "        \"start_date\": start_time.strftime(\"%Y-%m-%d\"),\n",
    "        \"end_date\": end_time.strftime(\"%Y-%m-%d\"),\n",
    "        \"timezone\": \"UTC\"\n",
    "    }\n",
    "\n",
    "    response = requests.get(url, params=params)\n",
    "    data = response.json()\n",
    "\n",
    "    df = pd.DataFrame({\n",
    "        \"time\": data[\"hourly\"][\"time\"],\n",
    "        \"wind_speed\": data[\"hourly\"][\"wind_speed_10m\"],\n",
    "        \"wind_direction\": data[\"hourly\"][\"wind_direction_10m\"]\n",
    "    })\n",
    "\n",
    "    df[\"time\"] = pd.to_datetime(df[\"time\"])\n",
    "\n",
    "    return df"
   ]
  },
  {
   "cell_type": "code",
   "execution_count": 3,
   "metadata": {},
   "outputs": [],
   "source": [
    "def get_wind_conditions_from_df(df_wind, step, interval_minutes=60):\n",
    "    \"\"\"\n",
    "    Retrieve wind speed and direction for the current step based on the DataFrame.\n",
    "    Assumes 1 step = interval_minutes (e.g., 60 mins).\n",
    "    \"\"\"\n",
    "    idx = min(step, len(df_wind) - 1)\n",
    "    row = df_wind.iloc[idx]\n",
    "    return row[\"wind_speed\"], row[\"wind_direction\"]"
   ]
  },
  {
   "cell_type": "code",
   "execution_count": 4,
   "metadata": {},
   "outputs": [],
   "source": [
    "def interpolate_wind(df_hourly, freq='5min'):\n",
    "    \"\"\"\n",
    "    Interpolate wind speed and direction from hourly to 5-minute intervals.\n",
    "    \"\"\"\n",
    "    df = df_hourly.copy()\n",
    "    df = df.set_index('time')\n",
    "    df_resampled = df.resample(freq).interpolate(method='linear')\n",
    "    df_resampled = df_resampled.reset_index()\n",
    "    return df_resampled"
   ]
  },
  {
   "cell_type": "code",
   "execution_count": 5,
   "metadata": {},
   "outputs": [
    {
     "name": "stderr",
     "output_type": "stream",
     "text": [
      "/var/folders/j6/sbqqj8q50l13h4xp4_6db0v80000gn/T/ipykernel_54475/754439564.py:7: DeprecationWarning: datetime.datetime.utcnow() is deprecated and scheduled for removal in a future version. Use timezone-aware objects to represent datetimes in UTC: datetime.datetime.now(datetime.UTC).\n",
      "  start_time = datetime.utcnow()\n"
     ]
    }
   ],
   "source": [
    "# Assume the wind is uniformly across all grids\n",
    "LAT_CENTER, LON_CENTER = 34.072382, -118.601048  # Simulation center\n",
    "\n",
    "# Fetch hourly wind conditions\n",
    "df_hourly = fetch_wind_data(LAT_CENTER, LON_CENTER, hours=24)\n",
    "\n",
    "# Interpolate to 5 minutes interval\n",
    "df_5min = interpolate_wind(df_hourly, freq='5min')"
   ]
  },
  {
   "cell_type": "code",
   "execution_count": 6,
   "metadata": {},
   "outputs": [
    {
     "name": "stdout",
     "output_type": "stream",
     "text": [
      "Wind speed: 9.583333333333334 m/s\n",
      "Wind direction: 227.33333333333334 degree\n"
     ]
    }
   ],
   "source": [
    "# To get wind speed and direction at each step of simulation\n",
    "wind_speed, wind_direction = get_wind_conditions_from_df(df_5min, 5) # step 5\n",
    "\n",
    "print(\"Wind speed:\", wind_speed, \"m/s\")\n",
    "print(\"Wind direction:\", wind_direction, \"degree\")"
   ]
  },
  {
   "cell_type": "code",
   "execution_count": null,
   "metadata": {},
   "outputs": [],
   "source": []
  }
 ],
 "metadata": {
  "kernelspec": {
   "display_name": "cse6730",
   "language": "python",
   "name": "python3"
  },
  "language_info": {
   "codemirror_mode": {
    "name": "ipython",
    "version": 3
   },
   "file_extension": ".py",
   "mimetype": "text/x-python",
   "name": "python",
   "nbconvert_exporter": "python",
   "pygments_lexer": "ipython3",
   "version": "3.12.9"
  }
 },
 "nbformat": 4,
 "nbformat_minor": 2
}
